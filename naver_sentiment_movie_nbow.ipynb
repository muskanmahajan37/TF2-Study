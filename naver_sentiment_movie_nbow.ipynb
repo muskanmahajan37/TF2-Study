{
  "nbformat": 4,
  "nbformat_minor": 0,
  "metadata": {
    "colab": {
      "name": "naver-sentiment-movie-nbow",
      "provenance": [],
      "collapsed_sections": [],
      "authorship_tag": "ABX9TyMbc8Zy95AfaPIKd80gH4Gl",
      "include_colab_link": true
    },
    "kernelspec": {
      "name": "python3",
      "display_name": "Python 3"
    }
  },
  "cells": [
    {
      "cell_type": "markdown",
      "metadata": {
        "id": "view-in-github",
        "colab_type": "text"
      },
      "source": [
        "<a href=\"https://colab.research.google.com/github/ryuseonghan/TF2-Study/blob/master/naver_sentiment_movie_nbow.ipynb\" target=\"_parent\"><img src=\"https://colab.research.google.com/assets/colab-badge.svg\" alt=\"Open In Colab\"/></a>"
      ]
    },
    {
      "cell_type": "markdown",
      "metadata": {
        "id": "153XSbaLiuR_",
        "colab_type": "text"
      },
      "source": [
        "# naver-sentiment-movie-nbow"
      ]
    },
    {
      "cell_type": "markdown",
      "metadata": {
        "id": "DAan9VJMktNT",
        "colab_type": "text"
      },
      "source": [
        "Reference\n",
        "- https://www.tensorflow.org/tutorials/keras/text_classification?hl=ko\n",
        "- https://cyc1am3n.github.io/2018/11/10/classifying_korean_movie_review.html\n",
        "- https://wikidocs.net/44249\n",
        "- https://www.tensorflow.org/api_docs/python/tf/keras/preprocessing/text/Tokenizer\n",
        "\n",
        "TODO List\n",
        "- wikidocs/44249 참조해 keras의 fit_on_texts 적용 (Char level로도 가능)\n",
        "- Dropout 추가 - https://www.tensorflow.org/tutorials/keras/overfit_and_underfit?hl=ko\n",
        "- https://www.tensorflow.org/tutorials/tensorflow_text/intro?hl=ko"
      ]
    },
    {
      "cell_type": "code",
      "metadata": {
        "id": "_VCW8NuKjCw0",
        "colab_type": "code",
        "outputId": "071f99c3-ee58-4c5a-8b53-8d9a519d80d0",
        "colab": {
          "base_uri": "https://localhost:8080/",
          "height": 36
        }
      },
      "source": [
        "!git clone https://github.com/e9t/nsmc.git"
      ],
      "execution_count": 1,
      "outputs": [
        {
          "output_type": "stream",
          "text": [
            "fatal: destination path 'nsmc' already exists and is not an empty directory.\n"
          ],
          "name": "stdout"
        }
      ]
    },
    {
      "cell_type": "code",
      "metadata": {
        "id": "ysySkc4Hi3q-",
        "colab_type": "code",
        "colab": {}
      },
      "source": [
        "train_data = [line.strip().split(\"\\t\") for line in open(\"nsmc/ratings_train.txt\", \"r\", encoding=\"utf-8\")][1:]"
      ],
      "execution_count": 0,
      "outputs": []
    },
    {
      "cell_type": "code",
      "metadata": {
        "id": "3CiWatBrj-D0",
        "colab_type": "code",
        "outputId": "bc348daa-cc03-4492-be68-a931bc1624a9",
        "colab": {
          "base_uri": "https://localhost:8080/",
          "height": 73
        }
      },
      "source": [
        "train_data[:3]"
      ],
      "execution_count": 3,
      "outputs": [
        {
          "output_type": "execute_result",
          "data": {
            "text/plain": [
              "[['9976970', '아 더빙.. 진짜 짜증나네요 목소리', '0'],\n",
              " ['3819312', '흠...포스터보고 초딩영화줄....오버연기조차 가볍지 않구나', '1'],\n",
              " ['10265843', '너무재밓었다그래서보는것을추천한다', '0']]"
            ]
          },
          "metadata": {
            "tags": []
          },
          "execution_count": 3
        }
      ]
    },
    {
      "cell_type": "code",
      "metadata": {
        "id": "5fy1sH_sj8RQ",
        "colab_type": "code",
        "colab": {}
      },
      "source": [
        "test_data = [line.strip().split(\"\\t\") for line in open(\"nsmc/ratings_test.txt\", \"r\", encoding=\"utf-8\")][1:]"
      ],
      "execution_count": 0,
      "outputs": []
    },
    {
      "cell_type": "code",
      "metadata": {
        "id": "1B3YGmTykVGj",
        "colab_type": "code",
        "outputId": "d2492b14-3663-4ec9-c8b0-333406e75b37",
        "colab": {
          "base_uri": "https://localhost:8080/",
          "height": 73
        }
      },
      "source": [
        "test_data[:3]"
      ],
      "execution_count": 5,
      "outputs": [
        {
          "output_type": "execute_result",
          "data": {
            "text/plain": [
              "[['6270596', '굳 ㅋ', '1'],\n",
              " ['9274899', 'GDNTOPCLASSINTHECLUB', '0'],\n",
              " ['8544678', '뭐야 이 평점들은.... 나쁘진 않지만 10점 짜리는 더더욱 아니잖아', '0']]"
            ]
          },
          "metadata": {
            "tags": []
          },
          "execution_count": 5
        }
      ]
    },
    {
      "cell_type": "code",
      "metadata": {
        "id": "y7PGjdrCkir7",
        "colab_type": "code",
        "colab": {}
      },
      "source": [
        "def tokenize(text):\n",
        "  return list(text)\n",
        "  \n",
        "train_t, train_y = zip(*[(tokenize(item[1]), int(item[2])) for item in train_data])\n",
        "test_t, test_y = zip(*[(tokenize(item[1]), int(item[2])) for item in test_data])\n",
        "\n",
        "import numpy as np\n",
        "train_y = np.array(train_y)\n",
        "test_y = np.array(test_y)"
      ],
      "execution_count": 0,
      "outputs": []
    },
    {
      "cell_type": "code",
      "metadata": {
        "id": "xe5SIB4XtqOv",
        "colab_type": "code",
        "outputId": "42f7c8ee-7083-4242-8f19-8b42032f7b32",
        "colab": {
          "base_uri": "https://localhost:8080/",
          "height": 36
        }
      },
      "source": [
        "train_y"
      ],
      "execution_count": 7,
      "outputs": [
        {
          "output_type": "execute_result",
          "data": {
            "text/plain": [
              "array([0, 1, 0, ..., 0, 1, 0])"
            ]
          },
          "metadata": {
            "tags": []
          },
          "execution_count": 7
        }
      ]
    },
    {
      "cell_type": "code",
      "metadata": {
        "id": "8tFaEy1KlSl6",
        "colab_type": "code",
        "colab": {}
      },
      "source": [
        "reverse_word_index = [\"<PAD>\", \"<UNK>\"] + list(set([word for text in train_t for word in text]))\n",
        "reverse_word_index = {wid: word for wid, word in enumerate(reverse_word_index)}"
      ],
      "execution_count": 0,
      "outputs": []
    },
    {
      "cell_type": "code",
      "metadata": {
        "id": "uPWXT67Mml6o",
        "colab_type": "code",
        "colab": {}
      },
      "source": [
        "word_index = {word: wid for wid, word in reverse_word_index.items()}"
      ],
      "execution_count": 0,
      "outputs": []
    },
    {
      "cell_type": "code",
      "metadata": {
        "id": "G894beOUnpwt",
        "colab_type": "code",
        "colab": {}
      },
      "source": [
        "def encode_text(text):\n",
        "    return [word_index.get(word, word_index[\"<UNK>\"]) for word in text]\n",
        "\n",
        "def decode_text(text):\n",
        "    return [reverse_word_index.get(wid, \"?\") for wid in text]\n",
        "\n",
        "train_i = [encode_text(text) for text in train_t]\n",
        "test_i = [encode_text(text) for text in test_t]"
      ],
      "execution_count": 0,
      "outputs": []
    },
    {
      "cell_type": "code",
      "metadata": {
        "id": "0CPlyzdNoivb",
        "colab_type": "code",
        "outputId": "e83241e1-1218-4147-9720-f55863be2258",
        "colab": {
          "base_uri": "https://localhost:8080/",
          "height": 36
        }
      },
      "source": [
        "\"|\".join(decode_text(encode_text(train_t[0])))"
      ],
      "execution_count": 11,
      "outputs": [
        {
          "output_type": "execute_result",
          "data": {
            "text/plain": [
              "'아| |더|빙|.|.| |진|짜| |짜|증|나|네|요| |목|소|리'"
            ]
          },
          "metadata": {
            "tags": []
          },
          "execution_count": 11
        }
      ]
    },
    {
      "cell_type": "code",
      "metadata": {
        "id": "z-8tF79oqXGv",
        "colab_type": "code",
        "colab": {}
      },
      "source": [
        "import tensorflow as tf\n",
        "from tensorflow import keras"
      ],
      "execution_count": 0,
      "outputs": []
    },
    {
      "cell_type": "code",
      "metadata": {
        "id": "ylBQzhtqqKyg",
        "colab_type": "code",
        "colab": {}
      },
      "source": [
        "train_x = keras.preprocessing.sequence.pad_sequences(train_i, value=word_index[\"<PAD>\"], padding='post', maxlen=256)\n",
        "test_x = keras.preprocessing.sequence.pad_sequences(test_i, value=word_index[\"<PAD>\"], padding='post', maxlen=256)"
      ],
      "execution_count": 0,
      "outputs": []
    },
    {
      "cell_type": "code",
      "metadata": {
        "id": "iqCuIgdOrGDT",
        "colab_type": "code",
        "outputId": "96d7368d-3a60-4340-8a07-8507c992ac85",
        "colab": {
          "base_uri": "https://localhost:8080/",
          "height": 36
        }
      },
      "source": [
        "word_index[\"<PAD>\"]"
      ],
      "execution_count": 14,
      "outputs": [
        {
          "output_type": "execute_result",
          "data": {
            "text/plain": [
              "0"
            ]
          },
          "metadata": {
            "tags": []
          },
          "execution_count": 14
        }
      ]
    },
    {
      "cell_type": "code",
      "metadata": {
        "id": "9UvFp9Ovr7XO",
        "colab_type": "code",
        "outputId": "b6a9314f-9863-4880-d55e-94ce57650a97",
        "colab": {
          "base_uri": "https://localhost:8080/",
          "height": 316
        }
      },
      "source": [
        "vocab_size = 10000\n",
        "\n",
        "model = keras.Sequential()\n",
        "model.add(keras.layers.Embedding(vocab_size, 16, input_shape=(None,)))\n",
        "model.add(keras.layers.GlobalAveragePooling1D())\n",
        "model.add(keras.layers.Dense(16, activation='relu'))\n",
        "model.add(keras.layers.Dense(1, activation='sigmoid'))\n",
        "\n",
        "model.summary()"
      ],
      "execution_count": 15,
      "outputs": [
        {
          "output_type": "stream",
          "text": [
            "Model: \"sequential\"\n",
            "_________________________________________________________________\n",
            "Layer (type)                 Output Shape              Param #   \n",
            "=================================================================\n",
            "embedding (Embedding)        (None, None, 16)          160000    \n",
            "_________________________________________________________________\n",
            "global_average_pooling1d (Gl (None, 16)                0         \n",
            "_________________________________________________________________\n",
            "dense (Dense)                (None, 16)                272       \n",
            "_________________________________________________________________\n",
            "dense_1 (Dense)              (None, 1)                 17        \n",
            "=================================================================\n",
            "Total params: 160,289\n",
            "Trainable params: 160,289\n",
            "Non-trainable params: 0\n",
            "_________________________________________________________________\n"
          ],
          "name": "stdout"
        }
      ]
    },
    {
      "cell_type": "code",
      "metadata": {
        "id": "QAsupIqVsbZT",
        "colab_type": "code",
        "outputId": "c48c7361-e43a-488a-b867-916f4f333180",
        "colab": {
          "base_uri": "https://localhost:8080/",
          "height": 36
        }
      },
      "source": [
        "train_y[0]"
      ],
      "execution_count": 16,
      "outputs": [
        {
          "output_type": "execute_result",
          "data": {
            "text/plain": [
              "0"
            ]
          },
          "metadata": {
            "tags": []
          },
          "execution_count": 16
        }
      ]
    },
    {
      "cell_type": "code",
      "metadata": {
        "id": "l1Aop3ZNsB0l",
        "colab_type": "code",
        "colab": {}
      },
      "source": [
        "model.compile(optimizer='adam',\n",
        "              loss='binary_crossentropy',\n",
        "              metrics=['accuracy'])"
      ],
      "execution_count": 0,
      "outputs": []
    },
    {
      "cell_type": "code",
      "metadata": {
        "id": "5lI7Yqi_sCaD",
        "colab_type": "code",
        "colab": {}
      },
      "source": [
        "val_x = train_x[:10000]\n",
        "val_y = train_y[:10000]"
      ],
      "execution_count": 0,
      "outputs": []
    },
    {
      "cell_type": "code",
      "metadata": {
        "id": "3OMGYxoxsJ2S",
        "colab_type": "code",
        "outputId": "bc829013-2e23-4cf1-ce13-352b9c77a180",
        "colab": {
          "base_uri": "https://localhost:8080/",
          "height": 391
        }
      },
      "source": [
        "history = model.fit(train_x,\n",
        "                    train_y,\n",
        "                    epochs=10,\n",
        "                    batch_size=512,\n",
        "                    validation_data=(val_x, val_y),\n",
        "                    verbose=1)"
      ],
      "execution_count": 20,
      "outputs": [
        {
          "output_type": "stream",
          "text": [
            "Epoch 1/10\n",
            "293/293 [==============================] - 6s 21ms/step - loss: 0.5442 - accuracy: 0.7557 - val_loss: 0.4957 - val_accuracy: 0.7786\n",
            "Epoch 2/10\n",
            "293/293 [==============================] - 6s 21ms/step - loss: 0.4858 - accuracy: 0.7777 - val_loss: 0.4638 - val_accuracy: 0.7956\n",
            "Epoch 3/10\n",
            "293/293 [==============================] - 6s 20ms/step - loss: 0.4677 - accuracy: 0.7871 - val_loss: 0.4508 - val_accuracy: 0.8001\n",
            "Epoch 4/10\n",
            "293/293 [==============================] - 6s 19ms/step - loss: 0.4594 - accuracy: 0.7910 - val_loss: 0.4448 - val_accuracy: 0.8027\n",
            "Epoch 5/10\n",
            "293/293 [==============================] - 6s 19ms/step - loss: 0.4542 - accuracy: 0.7937 - val_loss: 0.4387 - val_accuracy: 0.8056\n",
            "Epoch 6/10\n",
            "293/293 [==============================] - 6s 19ms/step - loss: 0.4505 - accuracy: 0.7951 - val_loss: 0.4360 - val_accuracy: 0.8061\n",
            "Epoch 7/10\n",
            "293/293 [==============================] - 6s 19ms/step - loss: 0.4479 - accuracy: 0.7963 - val_loss: 0.4322 - val_accuracy: 0.8088\n",
            "Epoch 8/10\n",
            "293/293 [==============================] - 6s 20ms/step - loss: 0.4451 - accuracy: 0.7971 - val_loss: 0.4298 - val_accuracy: 0.8073\n",
            "Epoch 9/10\n",
            "293/293 [==============================] - 6s 19ms/step - loss: 0.4431 - accuracy: 0.7978 - val_loss: 0.4303 - val_accuracy: 0.8059\n",
            "Epoch 10/10\n",
            "293/293 [==============================] - 5s 19ms/step - loss: 0.4408 - accuracy: 0.7990 - val_loss: 0.4260 - val_accuracy: 0.8105\n"
          ],
          "name": "stdout"
        }
      ]
    },
    {
      "cell_type": "code",
      "metadata": {
        "id": "o3iX1t7Zt65B",
        "colab_type": "code",
        "outputId": "6410b8b3-be81-436d-f447-2222ac10bb08",
        "colab": {
          "base_uri": "https://localhost:8080/",
          "height": 36
        }
      },
      "source": [
        "results = model.evaluate(test_x, test_y, verbose=2)"
      ],
      "execution_count": 21,
      "outputs": [
        {
          "output_type": "stream",
          "text": [
            "1563/1563 - 2s - loss: 0.4537 - accuracy: 0.7889\n"
          ],
          "name": "stdout"
        }
      ]
    },
    {
      "cell_type": "code",
      "metadata": {
        "id": "1o49V0UsyHDI",
        "colab_type": "code",
        "colab": {
          "base_uri": "https://localhost:8080/",
          "height": 36
        },
        "outputId": "18369b14-4af6-4984-c2c8-b1521d72ae49"
      },
      "source": [
        "history_dict = history.history\n",
        "history_dict.keys()"
      ],
      "execution_count": 24,
      "outputs": [
        {
          "output_type": "execute_result",
          "data": {
            "text/plain": [
              "dict_keys(['loss', 'accuracy', 'val_loss', 'val_accuracy'])"
            ]
          },
          "metadata": {
            "tags": []
          },
          "execution_count": 24
        }
      ]
    },
    {
      "cell_type": "code",
      "metadata": {
        "id": "wVYsHc5ux6kj",
        "colab_type": "code",
        "colab": {
          "base_uri": "https://localhost:8080/",
          "height": 295
        },
        "outputId": "5305f94b-cceb-4a98-bc01-e991da164a49"
      },
      "source": [
        "import matplotlib.pyplot as plt\n",
        "\n",
        "acc = history_dict['accuracy']\n",
        "val_acc = history_dict['val_accuracy']\n",
        "loss = history_dict['loss']\n",
        "val_loss = history_dict['val_loss']\n",
        "\n",
        "epochs = range(1, len(acc) + 1)\n",
        "\n",
        "# \"bo\"는 \"파란색 점\"입니다\n",
        "plt.plot(epochs, loss, 'bo', label='Training loss')\n",
        "# b는 \"파란 실선\"입니다\n",
        "plt.plot(epochs, val_loss, 'b', label='Validation loss')\n",
        "plt.title('Training and validation loss')\n",
        "plt.xlabel('Epochs')\n",
        "plt.ylabel('Loss')\n",
        "plt.legend()\n",
        "\n",
        "plt.show()"
      ],
      "execution_count": 25,
      "outputs": [
        {
          "output_type": "display_data",
          "data": {
            "image/png": "[encoded data removed]",
            "text/plain": [
              "<Figure size 432x288 with 1 Axes>"
            ]
          },
          "metadata": {
            "tags": [],
            "needs_background": "light"
          }
        }
      ]
    },
    {
      "cell_type": "code",
      "metadata": {
        "id": "xkWsp6d6yNAX",
        "colab_type": "code",
        "colab": {
          "base_uri": "https://localhost:8080/",
          "height": 295
        },
        "outputId": "da82e8ac-c56a-48a4-a352-df939c00a16c"
      },
      "source": [
        "plt.clf()   # 그림을 초기화합니다\n",
        "\n",
        "plt.plot(epochs, acc, 'bo', label='Training acc')\n",
        "plt.plot(epochs, val_acc, 'b', label='Validation acc')\n",
        "plt.title('Training and validation accuracy')\n",
        "plt.xlabel('Epochs')\n",
        "plt.ylabel('Accuracy')\n",
        "plt.legend()\n",
        "\n",
        "plt.show()"
      ],
      "execution_count": 26,
      "outputs": [
        {
          "output_type": "display_data",
          "data": {
            "image/png": "[encoded data removed]",
            "text/plain": [
              "<Figure size 432x288 with 1 Axes>"
            ]
          },
          "metadata": {
            "tags": [],
            "needs_background": "light"
          }
        }
      ]
    },
    {
      "cell_type": "code",
      "metadata": {
        "id": "ybompPMCyBDY",
        "colab_type": "code",
        "colab": {}
      },
      "source": [
        ""
      ],
      "execution_count": 0,
      "outputs": []
    }
  ]
}