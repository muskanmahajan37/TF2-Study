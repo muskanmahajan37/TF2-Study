{
  "nbformat": 4,
  "nbformat_minor": 0,
  "metadata": {
    "colab": {
      "name": "naver-sentiment-movie-rnn",
      "provenance": [],
      "collapsed_sections": [],
      "authorship_tag": "ABX9TyMY6B5tStie73cJpHzy3dPW",
      "include_colab_link": true
    },
    "kernelspec": {
      "name": "python3",
      "display_name": "Python 3"
    }
  },
  "cells": [
    {
      "cell_type": "markdown",
      "metadata": {
        "id": "view-in-github",
        "colab_type": "text"
      },
      "source": [
        "<a href=\"https://colab.research.google.com/github/ryuseonghan/TF2-Study/blob/master/naver_sentiment_movie_rnn.ipynb\" target=\"_parent\"><img src=\"https://colab.research.google.com/assets/colab-badge.svg\" alt=\"Open In Colab\"/></a>"
      ]
    },
    {
      "cell_type": "markdown",
      "metadata": {
        "id": "153XSbaLiuR_",
        "colab_type": "text"
      },
      "source": [
        "# naver-sentiment-movie-rnn"
      ]
    },
    {
      "cell_type": "markdown",
      "metadata": {
        "id": "DAan9VJMktNT",
        "colab_type": "text"
      },
      "source": [
        "Reference\n",
        "- https://www.tensorflow.org/tutorials/keras/text_classification?hl=ko\n",
        "- https://www.tensorflow.org/tutorials/text/text_classification_rnn?hl=ko\n",
        "- https://cyc1am3n.github.io/2018/11/10/classifying_korean_movie_review.html\n",
        "- https://wikidocs.net/44249"
      ]
    },
    {
      "cell_type": "markdown",
      "metadata": {
        "id": "SreHgOiGeWHb",
        "colab_type": "text"
      },
      "source": [
        "## Data Loading"
      ]
    },
    {
      "cell_type": "code",
      "metadata": {
        "id": "xjtr-k5qeIhN",
        "colab_type": "code",
        "colab": {}
      },
      "source": [
        "import urllib\n",
        "import pandas as pd"
      ],
      "execution_count": 0,
      "outputs": []
    },
    {
      "cell_type": "code",
      "metadata": {
        "id": "_VCW8NuKjCw0",
        "colab_type": "code",
        "outputId": "228e4839-19c4-4141-99c4-5b77d6e197be",
        "colab": {
          "base_uri": "https://localhost:8080/",
          "height": 36
        }
      },
      "source": [
        "urllib.request.urlretrieve(\"https://raw.githubusercontent.com/e9t/nsmc/master/ratings_train.txt\", filename=\"ratings_train.txt\")\n",
        "urllib.request.urlretrieve(\"https://raw.githubusercontent.com/e9t/nsmc/master/ratings_test.txt\", filename=\"ratings_test.txt\")"
      ],
      "execution_count": 2,
      "outputs": [
        {
          "output_type": "execute_result",
          "data": {
            "text/plain": [
              "('ratings_test.txt', <http.client.HTTPMessage at 0x7f924bea4320>)"
            ]
          },
          "metadata": {
            "tags": []
          },
          "execution_count": 2
        }
      ]
    },
    {
      "cell_type": "code",
      "metadata": {
        "id": "ysySkc4Hi3q-",
        "colab_type": "code",
        "colab": {}
      },
      "source": [
        "train_data = pd.read_table('ratings_train.txt')\n",
        "test_data = pd.read_table('ratings_test.txt')"
      ],
      "execution_count": 0,
      "outputs": []
    },
    {
      "cell_type": "markdown",
      "metadata": {
        "id": "oI3nukj-hNKV",
        "colab_type": "text"
      },
      "source": [
        "## Data Preprocessing"
      ]
    },
    {
      "cell_type": "code",
      "metadata": {
        "id": "TRJZSr5khgvZ",
        "colab_type": "code",
        "colab": {}
      },
      "source": [
        "train_data[\"document\"] = train_data[\"document\"].str.replace(\"[^ㄱ-ㅎㅏ-ㅣ가-힣a-zA-Z ]\",\"\")\n",
        "test_data[\"document\"] = test_data[\"document\"].str.replace(\"[^ㄱ-ㅎㅏ-ㅣ가-힣a-zA-Z ]\",\"\")"
      ],
      "execution_count": 0,
      "outputs": []
    },
    {
      "cell_type": "code",
      "metadata": {
        "id": "0ZKSuRE2ftc0",
        "colab_type": "code",
        "outputId": "6d246834-63d6-4b16-f487-67b0cf850759",
        "colab": {
          "base_uri": "https://localhost:8080/",
          "height": 415
        }
      },
      "source": [
        "train_data.loc[train_data['document'].duplicated()]"
      ],
      "execution_count": 5,
      "outputs": [
        {
          "output_type": "execute_result",
          "data": {
            "text/html": [
              "<div>\n",
              "<style scoped>\n",
              "    .dataframe tbody tr th:only-of-type {\n",
              "        vertical-align: middle;\n",
              "    }\n",
              "\n",
              "    .dataframe tbody tr th {\n",
              "        vertical-align: top;\n",
              "    }\n",
              "\n",
              "    .dataframe thead th {\n",
              "        text-align: right;\n",
              "    }\n",
              "</style>\n",
              "<table border=\"1\" class=\"dataframe\">\n",
              "  <thead>\n",
              "    <tr style=\"text-align: right;\">\n",
              "      <th></th>\n",
              "      <th>id</th>\n",
              "      <th>document</th>\n",
              "      <th>label</th>\n",
              "    </tr>\n",
              "  </thead>\n",
              "  <tbody>\n",
              "    <tr>\n",
              "      <th>593</th>\n",
              "      <td>6478189</td>\n",
              "      <td></td>\n",
              "      <td>0</td>\n",
              "    </tr>\n",
              "    <tr>\n",
              "      <th>638</th>\n",
              "      <td>9364602</td>\n",
              "      <td></td>\n",
              "      <td>0</td>\n",
              "    </tr>\n",
              "    <tr>\n",
              "      <th>1058</th>\n",
              "      <td>5890638</td>\n",
              "      <td></td>\n",
              "      <td>0</td>\n",
              "    </tr>\n",
              "    <tr>\n",
              "      <th>1097</th>\n",
              "      <td>2062443</td>\n",
              "      <td>쵝오</td>\n",
              "      <td>1</td>\n",
              "    </tr>\n",
              "    <tr>\n",
              "      <th>1165</th>\n",
              "      <td>7508856</td>\n",
              "      <td>최고</td>\n",
              "      <td>1</td>\n",
              "    </tr>\n",
              "    <tr>\n",
              "      <th>...</th>\n",
              "      <td>...</td>\n",
              "      <td>...</td>\n",
              "      <td>...</td>\n",
              "    </tr>\n",
              "    <tr>\n",
              "      <th>149949</th>\n",
              "      <td>3924716</td>\n",
              "      <td>OO 영화</td>\n",
              "      <td>0</td>\n",
              "    </tr>\n",
              "    <tr>\n",
              "      <th>149960</th>\n",
              "      <td>6368431</td>\n",
              "      <td>지루하다</td>\n",
              "      <td>0</td>\n",
              "    </tr>\n",
              "    <tr>\n",
              "      <th>149966</th>\n",
              "      <td>6735753</td>\n",
              "      <td></td>\n",
              "      <td>0</td>\n",
              "    </tr>\n",
              "    <tr>\n",
              "      <th>149987</th>\n",
              "      <td>7669621</td>\n",
              "      <td>재미있어요</td>\n",
              "      <td>1</td>\n",
              "    </tr>\n",
              "    <tr>\n",
              "      <th>149996</th>\n",
              "      <td>8549745</td>\n",
              "      <td>평점이 너무 낮아서</td>\n",
              "      <td>1</td>\n",
              "    </tr>\n",
              "  </tbody>\n",
              "</table>\n",
              "<p>5722 rows × 3 columns</p>\n",
              "</div>"
            ],
            "text/plain": [
              "             id    document  label\n",
              "593     6478189                  0\n",
              "638     9364602                  0\n",
              "1058    5890638                  0\n",
              "1097    2062443          쵝오      1\n",
              "1165    7508856          최고      1\n",
              "...         ...         ...    ...\n",
              "149949  3924716       OO 영화      0\n",
              "149960  6368431        지루하다      0\n",
              "149966  6735753                  0\n",
              "149987  7669621       재미있어요      1\n",
              "149996  8549745  평점이 너무 낮아서      1\n",
              "\n",
              "[5722 rows x 3 columns]"
            ]
          },
          "metadata": {
            "tags": []
          },
          "execution_count": 5
        }
      ]
    },
    {
      "cell_type": "code",
      "metadata": {
        "id": "lnQ0AP6wfXTJ",
        "colab_type": "code",
        "colab": {}
      },
      "source": [
        "train_data.drop_duplicates(subset=['document'], inplace=True)"
      ],
      "execution_count": 0,
      "outputs": []
    },
    {
      "cell_type": "code",
      "metadata": {
        "id": "oSrdtlZbgkY_",
        "colab_type": "code",
        "outputId": "ea7a2095-51df-412e-a371-a4f3865f1339",
        "colab": {
          "base_uri": "https://localhost:8080/",
          "height": 36
        }
      },
      "source": [
        "train_data['document'].duplicated().values.any()"
      ],
      "execution_count": 7,
      "outputs": [
        {
          "output_type": "execute_result",
          "data": {
            "text/plain": [
              "False"
            ]
          },
          "metadata": {
            "tags": []
          },
          "execution_count": 7
        }
      ]
    },
    {
      "cell_type": "code",
      "metadata": {
        "id": "KGNe8up_gvuD",
        "colab_type": "code",
        "colab": {}
      },
      "source": [
        "train_data.dropna(how='any', inplace=True)\n",
        "test_data.dropna(how='any', inplace=True)"
      ],
      "execution_count": 0,
      "outputs": []
    },
    {
      "cell_type": "code",
      "metadata": {
        "id": "paTrNU-wgytk",
        "colab_type": "code",
        "outputId": "7c73c5d7-5fd2-4afe-89c0-3ee8107ae9a9",
        "colab": {
          "base_uri": "https://localhost:8080/",
          "height": 36
        }
      },
      "source": [
        "train_data.document.isnull().values.any(), test_data.document.isnull().values.any()"
      ],
      "execution_count": 9,
      "outputs": [
        {
          "output_type": "execute_result",
          "data": {
            "text/plain": [
              "(False, False)"
            ]
          },
          "metadata": {
            "tags": []
          },
          "execution_count": 9
        }
      ]
    },
    {
      "cell_type": "code",
      "metadata": {
        "id": "3CiWatBrj-D0",
        "colab_type": "code",
        "outputId": "db401f7f-4cde-41bc-ed91-ff5970d04d5b",
        "colab": {
          "base_uri": "https://localhost:8080/",
          "height": 141
        }
      },
      "source": [
        "train_data[:3]"
      ],
      "execution_count": 10,
      "outputs": [
        {
          "output_type": "execute_result",
          "data": {
            "text/html": [
              "<div>\n",
              "<style scoped>\n",
              "    .dataframe tbody tr th:only-of-type {\n",
              "        vertical-align: middle;\n",
              "    }\n",
              "\n",
              "    .dataframe tbody tr th {\n",
              "        vertical-align: top;\n",
              "    }\n",
              "\n",
              "    .dataframe thead th {\n",
              "        text-align: right;\n",
              "    }\n",
              "</style>\n",
              "<table border=\"1\" class=\"dataframe\">\n",
              "  <thead>\n",
              "    <tr style=\"text-align: right;\">\n",
              "      <th></th>\n",
              "      <th>id</th>\n",
              "      <th>document</th>\n",
              "      <th>label</th>\n",
              "    </tr>\n",
              "  </thead>\n",
              "  <tbody>\n",
              "    <tr>\n",
              "      <th>0</th>\n",
              "      <td>9976970</td>\n",
              "      <td>아 더빙 진짜 짜증나네요 목소리</td>\n",
              "      <td>0</td>\n",
              "    </tr>\n",
              "    <tr>\n",
              "      <th>1</th>\n",
              "      <td>3819312</td>\n",
              "      <td>흠포스터보고 초딩영화줄오버연기조차 가볍지 않구나</td>\n",
              "      <td>1</td>\n",
              "    </tr>\n",
              "    <tr>\n",
              "      <th>2</th>\n",
              "      <td>10265843</td>\n",
              "      <td>너무재밓었다그래서보는것을추천한다</td>\n",
              "      <td>0</td>\n",
              "    </tr>\n",
              "  </tbody>\n",
              "</table>\n",
              "</div>"
            ],
            "text/plain": [
              "         id                    document  label\n",
              "0   9976970           아 더빙 진짜 짜증나네요 목소리      0\n",
              "1   3819312  흠포스터보고 초딩영화줄오버연기조차 가볍지 않구나      1\n",
              "2  10265843           너무재밓었다그래서보는것을추천한다      0"
            ]
          },
          "metadata": {
            "tags": []
          },
          "execution_count": 10
        }
      ]
    },
    {
      "cell_type": "code",
      "metadata": {
        "id": "5fy1sH_sj8RQ",
        "colab_type": "code",
        "outputId": "e0bba943-83f7-4f2d-d281-3f0fe029001e",
        "colab": {
          "base_uri": "https://localhost:8080/",
          "height": 141
        }
      },
      "source": [
        "test_data[:3]"
      ],
      "execution_count": 11,
      "outputs": [
        {
          "output_type": "execute_result",
          "data": {
            "text/html": [
              "<div>\n",
              "<style scoped>\n",
              "    .dataframe tbody tr th:only-of-type {\n",
              "        vertical-align: middle;\n",
              "    }\n",
              "\n",
              "    .dataframe tbody tr th {\n",
              "        vertical-align: top;\n",
              "    }\n",
              "\n",
              "    .dataframe thead th {\n",
              "        text-align: right;\n",
              "    }\n",
              "</style>\n",
              "<table border=\"1\" class=\"dataframe\">\n",
              "  <thead>\n",
              "    <tr style=\"text-align: right;\">\n",
              "      <th></th>\n",
              "      <th>id</th>\n",
              "      <th>document</th>\n",
              "      <th>label</th>\n",
              "    </tr>\n",
              "  </thead>\n",
              "  <tbody>\n",
              "    <tr>\n",
              "      <th>0</th>\n",
              "      <td>6270596</td>\n",
              "      <td>굳 ㅋ</td>\n",
              "      <td>1</td>\n",
              "    </tr>\n",
              "    <tr>\n",
              "      <th>1</th>\n",
              "      <td>9274899</td>\n",
              "      <td>GDNTOPCLASSINTHECLUB</td>\n",
              "      <td>0</td>\n",
              "    </tr>\n",
              "    <tr>\n",
              "      <th>2</th>\n",
              "      <td>8544678</td>\n",
              "      <td>뭐야 이 평점들은 나쁘진 않지만 점 짜리는 더더욱 아니잖아</td>\n",
              "      <td>0</td>\n",
              "    </tr>\n",
              "  </tbody>\n",
              "</table>\n",
              "</div>"
            ],
            "text/plain": [
              "        id                          document  label\n",
              "0  6270596                               굳 ㅋ      1\n",
              "1  9274899              GDNTOPCLASSINTHECLUB      0\n",
              "2  8544678  뭐야 이 평점들은 나쁘진 않지만 점 짜리는 더더욱 아니잖아      0"
            ]
          },
          "metadata": {
            "tags": []
          },
          "execution_count": 11
        }
      ]
    },
    {
      "cell_type": "markdown",
      "metadata": {
        "id": "_lYuzJ4WLod_",
        "colab_type": "text"
      },
      "source": [
        "## Tokenization"
      ]
    },
    {
      "cell_type": "code",
      "metadata": {
        "id": "HCqir5GJOOSH",
        "colab_type": "code",
        "colab": {
          "base_uri": "https://localhost:8080/",
          "height": 36
        },
        "outputId": "5767a181-af75-441f-a722-b0a1083f4342"
      },
      "source": [
        "train_data[\"document\"][0]"
      ],
      "execution_count": 12,
      "outputs": [
        {
          "output_type": "execute_result",
          "data": {
            "text/plain": [
              "'아 더빙 진짜 짜증나네요 목소리'"
            ]
          },
          "metadata": {
            "tags": []
          },
          "execution_count": 12
        }
      ]
    },
    {
      "cell_type": "code",
      "metadata": {
        "id": "y7PGjdrCkir7",
        "colab_type": "code",
        "colab": {}
      },
      "source": [
        "def tokenize(text):\n",
        "  return list(text)\n",
        "\n",
        "train_text = [tokenize(text) for text in train_data[\"document\"]]\n",
        "test_text = [tokenize(text) for text in test_data[\"document\"]]"
      ],
      "execution_count": 0,
      "outputs": []
    },
    {
      "cell_type": "code",
      "metadata": {
        "id": "8tFaEy1KlSl6",
        "colab_type": "code",
        "colab": {}
      },
      "source": [
        "reverse_word_index = [\"<PAD>\", \"<UNK>\"] + list(set([word for text in train_text for word in text]))\n",
        "reverse_word_index = {wid: word for wid, word in enumerate(reverse_word_index)}"
      ],
      "execution_count": 0,
      "outputs": []
    },
    {
      "cell_type": "code",
      "metadata": {
        "id": "uPWXT67Mml6o",
        "colab_type": "code",
        "colab": {}
      },
      "source": [
        "word_index = {word: wid for wid, word in reverse_word_index.items()}"
      ],
      "execution_count": 0,
      "outputs": []
    },
    {
      "cell_type": "code",
      "metadata": {
        "id": "G894beOUnpwt",
        "colab_type": "code",
        "colab": {
          "base_uri": "https://localhost:8080/",
          "height": 36
        },
        "outputId": "72df0143-569e-4e82-f3d7-050a3af57e54"
      },
      "source": [
        "import numpy as np\n",
        "\n",
        "def encode_text(text, max_seq_len):\n",
        "    coded = []\n",
        "    for i in range(max_seq_len):\n",
        "      if i < len(text):\n",
        "        coded.append(word_index.get(text[i], word_index[\"<UNK>\"]))\n",
        "      else:\n",
        "        coded.append(word_index[\"<PAD>\"])\n",
        "    return coded\n",
        "\n",
        "def decode_text(coded):\n",
        "    text = []\n",
        "    for wid in coded:\n",
        "      if wid != word_index[\"<PAD>\"]:\n",
        "          text.append(reverse_word_index.get(wid, \"?\"))\n",
        "    return text\n",
        "\n",
        "train_x = np.array([encode_text(text, 32) for text in train_text])\n",
        "test_x = np.array([encode_text(text, 32) for text in test_text])\n",
        "\n",
        "train_x.shape, test_x.shape"
      ],
      "execution_count": 16,
      "outputs": [
        {
          "output_type": "execute_result",
          "data": {
            "text/plain": [
              "((144277, 32), (49997, 32))"
            ]
          },
          "metadata": {
            "tags": []
          },
          "execution_count": 16
        }
      ]
    },
    {
      "cell_type": "code",
      "metadata": {
        "id": "0CPlyzdNoivb",
        "colab_type": "code",
        "outputId": "11e71294-5c66-4970-873a-e7f95797c93f",
        "colab": {
          "base_uri": "https://localhost:8080/",
          "height": 36
        }
      },
      "source": [
        "\"|\".join(decode_text(train_x[0]))"
      ],
      "execution_count": 17,
      "outputs": [
        {
          "output_type": "execute_result",
          "data": {
            "text/plain": [
              "'아| |더|빙| |진|짜| |짜|증|나|네|요| |목|소|리'"
            ]
          },
          "metadata": {
            "tags": []
          },
          "execution_count": 17
        }
      ]
    },
    {
      "cell_type": "code",
      "metadata": {
        "id": "k4f8UCInOyN6",
        "colab_type": "code",
        "colab": {
          "base_uri": "https://localhost:8080/",
          "height": 36
        },
        "outputId": "d4554646-9a7c-4c4d-bac4-0c72fe9c2d96"
      },
      "source": [
        "train_y = np.array(train_data[\"label\"])\n",
        "test_y = np.array(test_data[\"label\"])\n",
        "train_y, test_y"
      ],
      "execution_count": 18,
      "outputs": [
        {
          "output_type": "execute_result",
          "data": {
            "text/plain": [
              "(array([0, 1, 0, ..., 0, 1, 0]), array([1, 0, 0, ..., 0, 0, 0]))"
            ]
          },
          "metadata": {
            "tags": []
          },
          "execution_count": 18
        }
      ]
    },
    {
      "cell_type": "markdown",
      "metadata": {
        "id": "xka-fcj7REg8",
        "colab_type": "text"
      },
      "source": [
        "## Model Building"
      ]
    },
    {
      "cell_type": "code",
      "metadata": {
        "id": "9UvFp9Ovr7XO",
        "colab_type": "code",
        "outputId": "f5ffeb71-b649-4ddd-dfa4-e7f68459cf2d",
        "colab": {
          "base_uri": "https://localhost:8080/",
          "height": 428
        }
      },
      "source": [
        "from tensorflow import keras\n",
        "\n",
        "vocab_size = len(word_index)\n",
        "\n",
        "model = keras.Sequential()\n",
        "model.add(keras.layers.Embedding(vocab_size, 32, mask_zero=True))\n",
        "model.add(keras.layers.Dropout(0.2))\n",
        "model.add(keras.layers.Bidirectional(keras.layers.GRU(64)))\n",
        "model.add(keras.layers.Dropout(0.2))\n",
        "model.add(keras.layers.Dense(16, activation='tanh'))\n",
        "model.add(keras.layers.Dropout(0.2))\n",
        "model.add(keras.layers.Dense(1, activation='sigmoid'))\n",
        "\n",
        "model.summary()"
      ],
      "execution_count": 19,
      "outputs": [
        {
          "output_type": "stream",
          "text": [
            "Model: \"sequential\"\n",
            "_________________________________________________________________\n",
            "Layer (type)                 Output Shape              Param #   \n",
            "=================================================================\n",
            "embedding (Embedding)        (None, None, 32)          83040     \n",
            "_________________________________________________________________\n",
            "dropout (Dropout)            (None, None, 32)          0         \n",
            "_________________________________________________________________\n",
            "bidirectional (Bidirectional (None, 128)               37632     \n",
            "_________________________________________________________________\n",
            "dropout_1 (Dropout)          (None, 128)               0         \n",
            "_________________________________________________________________\n",
            "dense (Dense)                (None, 16)                2064      \n",
            "_________________________________________________________________\n",
            "dropout_2 (Dropout)          (None, 16)                0         \n",
            "_________________________________________________________________\n",
            "dense_1 (Dense)              (None, 1)                 17        \n",
            "=================================================================\n",
            "Total params: 122,753\n",
            "Trainable params: 122,753\n",
            "Non-trainable params: 0\n",
            "_________________________________________________________________\n"
          ],
          "name": "stdout"
        }
      ]
    },
    {
      "cell_type": "code",
      "metadata": {
        "id": "y_fqkYfMWcKS",
        "colab_type": "code",
        "colab": {}
      },
      "source": [
        "model.compile(optimizer=keras.optimizers.Adam(0.001),\n",
        "              loss='binary_crossentropy',\n",
        "              metrics=['accuracy'])"
      ],
      "execution_count": 0,
      "outputs": []
    },
    {
      "cell_type": "markdown",
      "metadata": {
        "id": "g8wmtPFbRIjJ",
        "colab_type": "text"
      },
      "source": [
        "## Training"
      ]
    },
    {
      "cell_type": "code",
      "metadata": {
        "id": "5lI7Yqi_sCaD",
        "colab_type": "code",
        "colab": {}
      },
      "source": [
        "val_x = test_x[:1000]\n",
        "val_y = test_y[:1000]"
      ],
      "execution_count": 0,
      "outputs": []
    },
    {
      "cell_type": "code",
      "metadata": {
        "id": "3OMGYxoxsJ2S",
        "colab_type": "code",
        "colab": {}
      },
      "source": [
        "import tensorflow as tf\n",
        "\n",
        "train_dataset = tf.data.Dataset.from_tensor_slices((train_x, train_y))\n",
        "val_dataset = tf.data.Dataset.from_tensor_slices((val_x, val_y))\n",
        "\n",
        "train_dataset = train_dataset.shuffle(buffer_size=1024, reshuffle_each_iteration=True).batch(256)\n",
        "val_dataset = val_dataset.batch(1000)\n",
        "\n",
        "train_dataset = train_dataset.prefetch(4)"
      ],
      "execution_count": 0,
      "outputs": []
    },
    {
      "cell_type": "code",
      "metadata": {
        "id": "YMrCsHwwYaj2",
        "colab_type": "code",
        "colab": {
          "base_uri": "https://localhost:8080/",
          "height": 764
        },
        "outputId": "81d17e61-a2fb-4bef-8920-94d87382253d"
      },
      "source": [
        "history = model.fit(train_dataset, epochs=20, validation_data=val_dataset, verbose=1)"
      ],
      "execution_count": 23,
      "outputs": [
        {
          "output_type": "stream",
          "text": [
            "Epoch 1/20\n",
            "564/564 [==============================] - 83s 148ms/step - loss: 0.5226 - accuracy: 0.7372 - val_loss: 0.4788 - val_accuracy: 0.7760\n",
            "Epoch 2/20\n",
            "564/564 [==============================] - 76s 135ms/step - loss: 0.4775 - accuracy: 0.7711 - val_loss: 0.4538 - val_accuracy: 0.7810\n",
            "Epoch 3/20\n",
            "564/564 [==============================] - 77s 137ms/step - loss: 0.4467 - accuracy: 0.7874 - val_loss: 0.4353 - val_accuracy: 0.7880\n",
            "Epoch 4/20\n",
            "564/564 [==============================] - 76s 136ms/step - loss: 0.4323 - accuracy: 0.7960 - val_loss: 0.4358 - val_accuracy: 0.8040\n",
            "Epoch 5/20\n",
            "564/564 [==============================] - 77s 137ms/step - loss: 0.4200 - accuracy: 0.8032 - val_loss: 0.4276 - val_accuracy: 0.8070\n",
            "Epoch 6/20\n",
            "564/564 [==============================] - 76s 135ms/step - loss: 0.4111 - accuracy: 0.8091 - val_loss: 0.4201 - val_accuracy: 0.8020\n",
            "Epoch 7/20\n",
            "564/564 [==============================] - 76s 136ms/step - loss: 0.4018 - accuracy: 0.8150 - val_loss: 0.4160 - val_accuracy: 0.8080\n",
            "Epoch 8/20\n",
            "564/564 [==============================] - 78s 138ms/step - loss: 0.3939 - accuracy: 0.8188 - val_loss: 0.4120 - val_accuracy: 0.8070\n",
            "Epoch 9/20\n",
            "564/564 [==============================] - 83s 147ms/step - loss: 0.3866 - accuracy: 0.8242 - val_loss: 0.4100 - val_accuracy: 0.8100\n",
            "Epoch 10/20\n",
            "564/564 [==============================] - 76s 135ms/step - loss: 0.3793 - accuracy: 0.8293 - val_loss: 0.4087 - val_accuracy: 0.8160\n",
            "Epoch 11/20\n",
            "564/564 [==============================] - 77s 137ms/step - loss: 0.3728 - accuracy: 0.8319 - val_loss: 0.4054 - val_accuracy: 0.8180\n",
            "Epoch 12/20\n",
            "564/564 [==============================] - 77s 137ms/step - loss: 0.3688 - accuracy: 0.8345 - val_loss: 0.4064 - val_accuracy: 0.8130\n",
            "Epoch 13/20\n",
            "564/564 [==============================] - 77s 136ms/step - loss: 0.3632 - accuracy: 0.8383 - val_loss: 0.4045 - val_accuracy: 0.8140\n",
            "Epoch 14/20\n",
            "564/564 [==============================] - 77s 136ms/step - loss: 0.3595 - accuracy: 0.8399 - val_loss: 0.4111 - val_accuracy: 0.8180\n",
            "Epoch 15/20\n",
            "564/564 [==============================] - 78s 137ms/step - loss: 0.3551 - accuracy: 0.8430 - val_loss: 0.4056 - val_accuracy: 0.8140\n",
            "Epoch 16/20\n",
            "564/564 [==============================] - 77s 136ms/step - loss: 0.3513 - accuracy: 0.8449 - val_loss: 0.4092 - val_accuracy: 0.8220\n",
            "Epoch 17/20\n",
            "564/564 [==============================] - 76s 135ms/step - loss: 0.3484 - accuracy: 0.8460 - val_loss: 0.4049 - val_accuracy: 0.8130\n",
            "Epoch 18/20\n",
            "564/564 [==============================] - 75s 133ms/step - loss: 0.3444 - accuracy: 0.8474 - val_loss: 0.4060 - val_accuracy: 0.8190\n",
            "Epoch 19/20\n",
            "564/564 [==============================] - 75s 133ms/step - loss: 0.3417 - accuracy: 0.8508 - val_loss: 0.4033 - val_accuracy: 0.8130\n",
            "Epoch 20/20\n",
            "564/564 [==============================] - 75s 133ms/step - loss: 0.3386 - accuracy: 0.8517 - val_loss: 0.4036 - val_accuracy: 0.8150\n"
          ],
          "name": "stdout"
        }
      ]
    },
    {
      "cell_type": "markdown",
      "metadata": {
        "id": "oSNkrBjQYeG7",
        "colab_type": "text"
      },
      "source": [
        "## Evaluation"
      ]
    },
    {
      "cell_type": "code",
      "metadata": {
        "id": "djTN9ZBeeLuw",
        "colab_type": "code",
        "colab": {
          "base_uri": "https://localhost:8080/",
          "height": 36
        },
        "outputId": "98c1b718-576e-4c59-a5b6-7e6e07b58282"
      },
      "source": [
        "model.predict([encode_text(tokenize(\"이거 잼있네\"), 32)])[0]"
      ],
      "execution_count": 24,
      "outputs": [
        {
          "output_type": "execute_result",
          "data": {
            "text/plain": [
              "array([0.92911977], dtype=float32)"
            ]
          },
          "metadata": {
            "tags": []
          },
          "execution_count": 24
        }
      ]
    },
    {
      "cell_type": "code",
      "metadata": {
        "id": "RQIwACRyadUL",
        "colab_type": "code",
        "colab": {
          "base_uri": "https://localhost:8080/",
          "height": 36
        },
        "outputId": "fc66426a-4825-4348-b531-cda5dbdfd2be"
      },
      "source": [
        "model.predict([encode_text(tokenize(\"이거 졸잼이네\"), 32)])[0]"
      ],
      "execution_count": 25,
      "outputs": [
        {
          "output_type": "execute_result",
          "data": {
            "text/plain": [
              "array([0.90994024], dtype=float32)"
            ]
          },
          "metadata": {
            "tags": []
          },
          "execution_count": 25
        }
      ]
    },
    {
      "cell_type": "code",
      "metadata": {
        "id": "ehX20oPpeRAi",
        "colab_type": "code",
        "colab": {
          "base_uri": "https://localhost:8080/",
          "height": 36
        },
        "outputId": "9ef20424-0bc2-45db-f447-f19c1684159a"
      },
      "source": [
        "model.predict([encode_text(tokenize(\"이거 개꿀잼\"), 32)])[0]"
      ],
      "execution_count": 26,
      "outputs": [
        {
          "output_type": "execute_result",
          "data": {
            "text/plain": [
              "array([0.9775113], dtype=float32)"
            ]
          },
          "metadata": {
            "tags": []
          },
          "execution_count": 26
        }
      ]
    },
    {
      "cell_type": "code",
      "metadata": {
        "id": "PKlpEyTgbaSm",
        "colab_type": "code",
        "colab": {
          "base_uri": "https://localhost:8080/",
          "height": 36
        },
        "outputId": "d76b8cf5-f6c9-45b8-c995-6a2c0a9c739a"
      },
      "source": [
        "model.predict([encode_text(tokenize(\"이거 노잼이네\"), 32)])[0]"
      ],
      "execution_count": 27,
      "outputs": [
        {
          "output_type": "execute_result",
          "data": {
            "text/plain": [
              "array([0.03209848], dtype=float32)"
            ]
          },
          "metadata": {
            "tags": []
          },
          "execution_count": 27
        }
      ]
    },
    {
      "cell_type": "code",
      "metadata": {
        "id": "wp53VskSeXSH",
        "colab_type": "code",
        "colab": {
          "base_uri": "https://localhost:8080/",
          "height": 36
        },
        "outputId": "d1de83ed-6c2a-4fbd-f8c2-b5b3efe6b4c3"
      },
      "source": [
        "model.predict([encode_text(tokenize(\"완전 핵노잼\"), 32)])[0]"
      ],
      "execution_count": 28,
      "outputs": [
        {
          "output_type": "execute_result",
          "data": {
            "text/plain": [
              "array([0.01110437], dtype=float32)"
            ]
          },
          "metadata": {
            "tags": []
          },
          "execution_count": 28
        }
      ]
    },
    {
      "cell_type": "code",
      "metadata": {
        "id": "LRPqUPCylxZ9",
        "colab_type": "code",
        "colab": {
          "base_uri": "https://localhost:8080/",
          "height": 36
        },
        "outputId": "fa500e0e-cd8d-4a6b-e57b-0994b26ecf24"
      },
      "source": [
        "model.predict([encode_text(tokenize(\"그냥 그래요\"), 32)])[0]"
      ],
      "execution_count": 29,
      "outputs": [
        {
          "output_type": "execute_result",
          "data": {
            "text/plain": [
              "array([0.15100455], dtype=float32)"
            ]
          },
          "metadata": {
            "tags": []
          },
          "execution_count": 29
        }
      ]
    },
    {
      "cell_type": "code",
      "metadata": {
        "id": "o3iX1t7Zt65B",
        "colab_type": "code",
        "outputId": "ed84ea2c-df97-41d9-d62f-de70ba85070c",
        "colab": {
          "base_uri": "https://localhost:8080/",
          "height": 36
        }
      },
      "source": [
        "results = model.evaluate(test_x, test_y, verbose=2)"
      ],
      "execution_count": 30,
      "outputs": [
        {
          "output_type": "stream",
          "text": [
            "1563/1563 - 11s - loss: 0.3963 - accuracy: 0.8201\n"
          ],
          "name": "stdout"
        }
      ]
    },
    {
      "cell_type": "code",
      "metadata": {
        "id": "1o49V0UsyHDI",
        "colab_type": "code",
        "outputId": "0450570d-5d30-4179-c664-aa2dc1a338df",
        "colab": {
          "base_uri": "https://localhost:8080/",
          "height": 36
        }
      },
      "source": [
        "history_dict = history.history\n",
        "history_dict.keys()"
      ],
      "execution_count": 31,
      "outputs": [
        {
          "output_type": "execute_result",
          "data": {
            "text/plain": [
              "dict_keys(['loss', 'accuracy', 'val_loss', 'val_accuracy'])"
            ]
          },
          "metadata": {
            "tags": []
          },
          "execution_count": 31
        }
      ]
    },
    {
      "cell_type": "code",
      "metadata": {
        "id": "wVYsHc5ux6kj",
        "colab_type": "code",
        "outputId": "da60d10e-c3a0-4677-9467-b84cb093cf09",
        "colab": {
          "base_uri": "https://localhost:8080/",
          "height": 295
        }
      },
      "source": [
        "import matplotlib.pyplot as plt\n",
        "\n",
        "acc = history_dict['accuracy']\n",
        "val_acc = history_dict['val_accuracy']\n",
        "loss = history_dict['loss']\n",
        "val_loss = history_dict['val_loss']\n",
        "\n",
        "epochs = range(1, len(acc) + 1)\n",
        "\n",
        "# \"bo\"는 \"파란색 점\"입니다\n",
        "plt.plot(epochs, loss, 'bo', label='Training loss')\n",
        "# b는 \"파란 실선\"입니다\n",
        "plt.plot(epochs, val_loss, 'b', label='Validation loss')\n",
        "plt.title('Training and validation loss')\n",
        "plt.xlabel('Epochs')\n",
        "plt.ylabel('Loss')\n",
        "plt.legend()\n",
        "\n",
        "plt.show()"
      ],
      "execution_count": 32,
      "outputs": [
        {
          "output_type": "display_data",
          "data": {
            "image/png": "[encoded data removed]",
            "text/plain": [
              "<Figure size 432x288 with 1 Axes>"
            ]
          },
          "metadata": {
            "tags": [],
            "needs_background": "light"
          }
        }
      ]
    },
    {
      "cell_type": "code",
      "metadata": {
        "id": "xkWsp6d6yNAX",
        "colab_type": "code",
        "outputId": "8cb1da11-aae7-4d1b-bc2a-c16d37607908",
        "colab": {
          "base_uri": "https://localhost:8080/",
          "height": 295
        }
      },
      "source": [
        "plt.clf()   # 그림을 초기화합니다\n",
        "\n",
        "plt.plot(epochs, acc, 'bo', label='Training acc')\n",
        "plt.plot(epochs, val_acc, 'b', label='Validation acc')\n",
        "plt.title('Training and validation accuracy')\n",
        "plt.xlabel('Epochs')\n",
        "plt.ylabel('Accuracy')\n",
        "plt.legend()\n",
        "\n",
        "plt.show()"
      ],
      "execution_count": 33,
      "outputs": [
        {
          "output_type": "display_data",
          "data": {
            "image/png": "[encoded data removed]",
            "text/plain": [
              "<Figure size 432x288 with 1 Axes>"
            ]
          },
          "metadata": {
            "tags": [],
            "needs_background": "light"
          }
        }
      ]
    }
  ]
}